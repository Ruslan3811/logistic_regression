{
 "cells": [
  {
   "cell_type": "code",
   "execution_count": 1,
   "id": "88912ad2",
   "metadata": {},
   "outputs": [],
   "source": [
    "import numpy as np\n",
    "\n",
    "def get_data():\n",
    "    del_cols = set()\n",
    "    save_labels = ['Hogwarts House', \"Astronomy\", \"Herbology\"]\n",
    "    with open(\"dataset_train.csv\") as file:\n",
    "        rows_list = file.read().splitlines()\n",
    "        col_dict = {}\n",
    "        labels = rows_list[0].split(',')\n",
    "        for label in labels:\n",
    "            col_dict[label] = []\n",
    "            if label not in save_labels:\n",
    "                del_cols.add(label)\n",
    "        for row in rows_list[1:]:\n",
    "            values = row.split(\",\")\n",
    "            for index in range(len(col_dict)):\n",
    "                col_dict[labels[index]].append(values[index])\n",
    "\n",
    "    for key in del_cols:\n",
    "        col_dict.pop(key)\n",
    "    return col_dict\n",
    "\n",
    "def drop_empty_vals(data):\n",
    "    del_rows = set()\n",
    "    del_rows = [ind_val for key, lst in data.items() for ind_val in range(len(lst)) if lst[ind_val] == '']\n",
    "    new_data = {key:[] for key in data.keys()}\n",
    "    for key, lst in data.items():\n",
    "        for ind_val in range(len(lst)):\n",
    "            if ind_val not in del_rows:\n",
    "                new_data[key].append(lst[ind_val])   \n",
    "    return new_data\n",
    "\n",
    "def convert_to_int(col_dict):\n",
    "    for key, list_values in col_dict.items():\n",
    "        col_dict[key] = [int(float(val)) if key!='Hogwarts House' else val for val in list_values]\n",
    "\n",
    "def add_int_col_for_house(data):\n",
    "    data['House val'] = []\n",
    "    houses = set()\n",
    "    for val in data[\"Hogwarts House\"]:\n",
    "        houses.add(val)\n",
    "    houses = list(houses)\n",
    "    order_house = {}\n",
    "    for ind_house in range(len(houses)):\n",
    "        order_house[houses[ind_house]] = ind_house\n",
    "    for ind_house in range(len(data[\"Hogwarts House\"])):\n",
    "        data['House val'].append(order_house[data[\"Hogwarts House\"][ind_house]])\n",
    "    return data\n",
    "\n",
    "\n",
    "\n",
    "\n",
    "def _sigmoid_function(self, z):\n",
    "    return 1 / (1 + np.exp(-z))\n",
    "\n",
    "def cost_function(self, X, y, w):\n",
    "    m = y.size\n",
    "    z = -w.T.dot(X)\n",
    "    matrix_sigm = self._sigmoid_function(z)\n",
    "    # print((-y.T).size, (-y).T, np.ma.log(matrix_sigm).filled(0))\n",
    "    return (1/m) * np.sum(-y.T.dot(np.ma.log(matrix_sigm).filled(0)) - (1 - y).T.dot(np.ma.log(1 - matrix_sigm).filled(0)))\n",
    "\n",
    "def update_weights(self, X, y, weights_old, loss):\n",
    "    m = y.size\n",
    "    z = -w.T.dot(X)\n",
    "    sigm = self._sigmoid_function(z)\n",
    "    print(sigm - y)\n",
    "    gradient = np.dot(X.T, (sigm - y)) / m\n",
    "    print(X.T)\n",
    "    # sigm = 1 / (1 + np.exp(-(X.dot(w))))\n",
    "    # print(X.T.shape,  (sigm - y).shape)\n",
    "    # print(weights_old.shape)\n",
    "    # print(weights_old.shape, X.shape, (sigm - y).T.shape)\n",
    "    print(weights_old.shape, X.shape, (sigm - y).T.shape)\n",
    "    weights_new = weights_old - (self.alpha * gradient)\n",
    "    return weights_new\n",
    "\n",
    "def fit(self, X, y, w):\n",
    "    min_loss = self.cost_function(X, y, w)\n",
    "    new_weights = w\n",
    "    for epoch in range(1):\n",
    "        new_loss = self.cost_function(X, y, w)\n",
    "        if min_loss > new_loss:\n",
    "            min_loss = new_loss\n",
    "            new_weights = w\n",
    "        w = self.update_weights(X, y, w, new_loss)\n",
    "\n",
    "\n",
    "\n",
    "\n",
    "data = get_data()\n",
    "data = drop_empty_vals(data)\n",
    "# #it makes sence to change arounding\n",
    "convert_to_int(data)\n",
    "\n",
    "data = add_int_col_for_house(data)\n",
    "X = np.array([data[\"Astronomy\"], data[\"Herbology\"]])\n",
    "w = np.zeros((X.shape[0], 1))\n",
    "# print(X.shape, w.shape)\n",
    "y = np.array([data[\"House val\"]])\n",
    "# log_model = Logistic()\n",
    "# log_model.fit(X, y, w)"
   ]
  },
  {
   "cell_type": "code",
   "execution_count": 2,
   "id": "b4677a69",
   "metadata": {},
   "outputs": [],
   "source": [
    "m = y.size\n",
    "# print((-y.T).size, (-y).T, np.ma.log(matrix_sigm).filled(0))"
   ]
  },
  {
   "cell_type": "code",
   "execution_count": 3,
   "id": "f04542a0",
   "metadata": {},
   "outputs": [
    {
     "name": "stdout",
     "output_type": "stream",
     "text": [
      "[[-0. -0. -0. ... -0. -0. -0.]]\n"
     ]
    }
   ],
   "source": [
    "z = -w.T.dot(X)\n",
    "print(z)"
   ]
  },
  {
   "cell_type": "code",
   "execution_count": 4,
   "id": "263da58c",
   "metadata": {},
   "outputs": [
    {
     "name": "stdout",
     "output_type": "stream",
     "text": [
      "[[0.5 0.5 0.5 ... 0.5 0.5 0.5]]\n"
     ]
    }
   ],
   "source": [
    "matrix_sigm = 1 / (1 + np.exp(-z))\n",
    "print(matrix_sigm)"
   ]
  },
  {
   "cell_type": "code",
   "execution_count": 8,
   "id": "f16a2a7c",
   "metadata": {},
   "outputs": [
    {
     "name": "stdout",
     "output_type": "stream",
     "text": [
      "[[2 3 2 ... 1 0 0]]\n"
     ]
    }
   ],
   "source": [
    "y = np.array([data[\"House val\"]])\n",
    "print(y)"
   ]
  },
  {
   "cell_type": "code",
   "execution_count": 21,
   "id": "b37d9f95",
   "metadata": {},
   "outputs": [
    {
     "name": "stdout",
     "output_type": "stream",
     "text": [
      "[[0.5 0.5 0.5 ... 0.5 0.5 0.5]]\n",
      "[[-0.69314718 -0.69314718 -0.69314718 ... -0.69314718 -0.69314718\n",
      "  -0.69314718]]\n"
     ]
    }
   ],
   "source": [
    "log_matrix_sigm = np.ma.log(matrix_sigm).filled(0)\n",
    "print(log_matrix_sigm)"
   ]
  },
  {
   "cell_type": "code",
   "execution_count": 20,
   "id": "c768eeac",
   "metadata": {},
   "outputs": [
    {
     "ename": "ValueError",
     "evalue": "shapes (1535,1) and (1535,1) not aligned: 1 (dim 1) != 1535 (dim 0)",
     "output_type": "error",
     "traceback": [
      "\u001b[1;31m---------------------------------------------------------------------------\u001b[0m",
      "\u001b[1;31mValueError\u001b[0m                                Traceback (most recent call last)",
      "Input \u001b[1;32mIn [20]\u001b[0m, in \u001b[0;36m<cell line: 1>\u001b[1;34m()\u001b[0m\n\u001b[1;32m----> 1\u001b[0m cost_func \u001b[38;5;241m=\u001b[39m (\u001b[38;5;241m1\u001b[39m\u001b[38;5;241m/\u001b[39mm) \u001b[38;5;241m*\u001b[39m np\u001b[38;5;241m.\u001b[39msum(\u001b[38;5;241m-\u001b[39m\u001b[43my\u001b[49m\u001b[38;5;241;43m.\u001b[39;49m\u001b[43mT\u001b[49m\u001b[38;5;241;43m.\u001b[39;49m\u001b[43mdot\u001b[49m\u001b[43m(\u001b[49m\u001b[43mlog\u001b[49m\u001b[38;5;241;43m.\u001b[39;49m\u001b[43mT\u001b[49m\u001b[43m)\u001b[49m \u001b[38;5;241m-\u001b[39m (\u001b[38;5;241m1\u001b[39m \u001b[38;5;241m-\u001b[39m y)\u001b[38;5;241m.\u001b[39mT\u001b[38;5;241m.\u001b[39mdot(\u001b[38;5;241m1\u001b[39m \u001b[38;5;241m-\u001b[39m log\u001b[38;5;241m.\u001b[39mT))\n\u001b[0;32m      2\u001b[0m \u001b[38;5;28mprint\u001b[39m(cost_func)\n",
      "\u001b[1;31mValueError\u001b[0m: shapes (1535,1) and (1535,1) not aligned: 1 (dim 1) != 1535 (dim 0)"
     ]
    }
   ],
   "source": [
    "cost_func = (1/m) * np.sum(-y.T.dot(log.T) - (1 - y).T.dot((1 - log).T))\n",
    "print(cost_func)"
   ]
  },
  {
   "cell_type": "code",
   "execution_count": null,
   "id": "f74aa2e0",
   "metadata": {},
   "outputs": [],
   "source": []
  }
 ],
 "metadata": {
  "kernelspec": {
   "display_name": "Python 3 (ipykernel)",
   "language": "python",
   "name": "python3"
  },
  "language_info": {
   "codemirror_mode": {
    "name": "ipython",
    "version": 3
   },
   "file_extension": ".py",
   "mimetype": "text/x-python",
   "name": "python",
   "nbconvert_exporter": "python",
   "pygments_lexer": "ipython3",
   "version": "3.10.4"
  }
 },
 "nbformat": 4,
 "nbformat_minor": 5
}
